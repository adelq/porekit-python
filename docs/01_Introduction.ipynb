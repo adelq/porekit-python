{
 "cells": [
  {
   "cell_type": "code",
   "execution_count": 1,
   "metadata": {
    "collapsed": true
   },
   "outputs": [],
   "source": [
    "import pandas as pd\n",
    "import numpy as np\n",
    "import seaborn as sb\n",
    "import matplotlib.pyplot as plt\n",
    "%matplotlib inline"
   ]
  },
  {
   "cell_type": "markdown",
   "metadata": {},
   "source": [
    "Introduction to Porekit-Python\n",
    "==============================\n",
    "\n",
    "Disclaimer\n",
    "------\n",
    "Porekit is the result of my personal interest in nanopore sequencing. I'm not affiliated with Oxford Nanopore Technologies, or any MAP participant. This means a lot of the factual information presented in this notebook may be wrong."
   ]
  },
  {
   "cell_type": "markdown",
   "metadata": {},
   "source": [
    "## General philosophy and goal of Porekit-Python\n",
    "\n",
    "This library is meant to provide tools for interactively exploring nanopore data inside the Jupyter notebook, and for writing simple scripts or more complex software dealing with nanopore data. Therefore a lot of attention has been given to make interactive use easy and painless, and to keep the code in the background flexible and exposed to library users."
   ]
  },
  {
   "cell_type": "markdown",
   "metadata": {},
   "source": [
    "## What Oxford Nanopore Data looks like\n",
    "\n",
    "The MinION sequencer is attached to a laptop running MinKnow. This program connects directly to the MinION device and tells it what to do. Optionally, third party software can connect to an API inside the primary software to remote control the sequencing process. That is not covered here, though.\n",
    "\n",
    "In a nutshell, nanopore sequencing works by dragging a DNA molecule through a tiny pore in a membrane. As the DNA passes, the voltage difference between the two sides of the membrane change, depending on the electrochemical properties of the passing nucleotides. This means that, at the core of the nanopore data, there is a timeseries of voltage measurements, which is called the \"squiggle\".\n",
    "\n",
    "The process to convert the squiggle into a sequence of DNA letters is called base calling. The current MinKnow software uploads the squiggle to Metrichor servers, which perform the base calling, and send the result back to the user's computer.\n",
    "\n",
    "The result of a sequencing run is a collection of FAST5 files, each containing data on one molecule of DNA which passed through one of currently 512 channels in the flowcell. These files are stored on disk, usually in one directory per run. A convention seems to be to name each file with a unique and descriptive string:"
   ]
  },
  {
   "cell_type": "code",
   "execution_count": 2,
   "metadata": {
    "collapsed": false
   },
   "outputs": [
    {
     "name": "stdout",
     "output_type": "stream",
     "text": [
      "PLSP57501_20151028_Mk1_lambda_RU9_2752_1_ch9_file64_strand.fast5\r\n",
      "PLSP57501_20151028_Mk1_lambda_RU9_2752_1_ch9_file67_strand.fast5\r\n",
      "PLSP57501_20151028_Mk1_lambda_RU9_2752_1_ch9_file6_strand.fast5\r\n",
      "PLSP57501_20151028_Mk1_lambda_RU9_2752_1_ch9_file74_strand.fast5\r\n",
      "PLSP57501_20151028_Mk1_lambda_RU9_2752_1_ch9_file86_strand.fast5\r\n",
      "PLSP57501_20151028_Mk1_lambda_RU9_2752_1_ch9_file90_strand.fast5\r\n",
      "PLSP57501_20151028_Mk1_lambda_RU9_2752_1_ch9_file92_strand.fast5\r\n",
      "PLSP57501_20151028_Mk1_lambda_RU9_2752_1_ch9_file95_strand.fast5\r\n",
      "PLSP57501_20151028_Mk1_lambda_RU9_2752_1_ch9_file97_strand.fast5\r\n",
      "PLSP57501_20151028_Mk1_lambda_RU9_2752_1_ch9_file9_strand.fast5\r\n"
     ]
    }
   ],
   "source": [
    "!ls /home/andi/nanopore/GenomeRU2/downloads/pass/ | tail -n 10"
   ]
  },
  {
   "cell_type": "markdown",
   "metadata": {},
   "source": [
    "These files belong to data publishd by Quick et al. http://europepmc.org/abstract/MED/25386338;jsessionid=ijHIHUVXlcpxeTzVUihz.0"
   ]
  },
  {
   "cell_type": "markdown",
   "metadata": {},
   "source": [
    "## Gathering Metadata\n",
    "\n",
    "The following snippet will extract meta data from all of my downloaded nanopore data, searching directories recursively."
   ]
  },
  {
   "cell_type": "code",
   "execution_count": 3,
   "metadata": {
    "collapsed": false
   },
   "outputs": [
    {
     "name": "stderr",
     "output_type": "stream",
     "text": [
      "/home/andi/anaconda3/lib/python3.5/site-packages/skbio/io/registry.py:547: FormatIdentificationWarning: <WrappedBufferedRandom> does not look like a fastq file\n",
      "  % (file, fmt), FormatIdentificationWarning)\n",
      "Process ForkPoolWorker-4:\n",
      "Traceback (most recent call last):\n",
      "  File \"/home/andi/anaconda3/lib/python3.5/multiprocessing/process.py\", line 254, in _bootstrap\n",
      "    self.run()\n",
      "  File \"/home/andi/anaconda3/lib/python3.5/multiprocessing/process.py\", line 93, in run\n",
      "    self._target(*self._args, **self._kwargs)\n",
      "  File \"/home/andi/anaconda3/lib/python3.5/multiprocessing/pool.py\", line 119, in worker\n",
      "    result = (True, func(*args, **kwds))\n",
      "  File \"/home/andi/anaconda3/lib/python3.5/multiprocessing/pool.py\", line 44, in mapstar\n",
      "    return list(map(*args))\n",
      "  File \"/home/andi/nanopore/porekit-python/porekit/porekit.py\", line 240, in get_fast5_file_metadata\n",
      "    fast5 = Fast5File(file_name)\n",
      "  File \"/home/andi/nanopore/porekit-python/porekit/porekit.py\", line 17, in __init__\n",
      "    super().__init__(filename, mode, **kwargs)\n",
      "  File \"/home/andi/anaconda3/lib/python3.5/site-packages/h5py/_hl/files.py\", line 260, in __init__\n",
      "    fid = make_fid(name, mode, userblock_size, fapl, swmr=swmr)\n",
      "  File \"/home/andi/anaconda3/lib/python3.5/site-packages/h5py/_hl/files.py\", line 109, in make_fid\n",
      "    fid = h5f.open(name, h5f.ACC_RDWR, fapl=fapl)\n",
      "KeyboardInterrupt\n",
      "Process ForkPoolWorker-1:\n",
      "Traceback (most recent call last):\n",
      "  File \"/home/andi/anaconda3/lib/python3.5/multiprocessing/process.py\", line 254, in _bootstrap\n",
      "    self.run()\n",
      "  File \"/home/andi/anaconda3/lib/python3.5/multiprocessing/process.py\", line 93, in run\n",
      "    self._target(*self._args, **self._kwargs)\n",
      "  File \"/home/andi/anaconda3/lib/python3.5/multiprocessing/pool.py\", line 119, in worker\n",
      "    result = (True, func(*args, **kwds))\n",
      "  File \"/home/andi/anaconda3/lib/python3.5/multiprocessing/pool.py\", line 44, in mapstar\n",
      "    return list(map(*args))\n",
      "  File \"/home/andi/nanopore/porekit-python/porekit/porekit.py\", line 240, in get_fast5_file_metadata\n",
      "    fast5 = Fast5File(file_name)\n",
      "  File \"/home/andi/nanopore/porekit-python/porekit/porekit.py\", line 17, in __init__\n",
      "    super().__init__(filename, mode, **kwargs)\n",
      "  File \"/home/andi/anaconda3/lib/python3.5/site-packages/h5py/_hl/files.py\", line 260, in __init__\n",
      "    fid = make_fid(name, mode, userblock_size, fapl, swmr=swmr)\n",
      "  File \"/home/andi/anaconda3/lib/python3.5/site-packages/h5py/_hl/files.py\", line 109, in make_fid\n",
      "    fid = h5f.open(name, h5f.ACC_RDWR, fapl=fapl)\n",
      "KeyboardInterrupt\n",
      "ERROR: Internal Python error in the inspect module.\n",
      "Below is the traceback from this internal error.\n",
      "\n"
     ]
    },
    {
     "name": "stdout",
     "output_type": "stream",
     "text": [
      "Traceback (most recent call last):\n",
      "  File \"/home/andi/anaconda3/lib/python3.5/site-packages/IPython/core/interactiveshell.py\", line 2885, in run_code\n",
      "    exec(code_obj, self.user_global_ns, self.user_ns)\n",
      "  File \"<ipython-input-3-c5e67e82c3ed>\", line 2, in <module>\n",
      "    everything = porekit.gather_metadata(\"/home/andi/nanopore/\", workers=4)\n",
      "  File \"/home/andi/nanopore/porekit-python/porekit/porekit.py\", line 296, in gather_metadata\n",
      "  File \"/home/andi/anaconda3/lib/python3.5/site-packages/pandas/core/frame.py\", line 939, in from_records\n",
      "    first_row = next(data)\n",
      "  File \"/home/andi/nanopore/porekit-python/porekit/porekit.py\", line 272, in gather_metadata_records\n",
      "    record = get_fast5_file_metadata(file_name, plugins, raise_errors=raise_errors)\n",
      "  File \"/home/andi/anaconda3/lib/python3.5/multiprocessing/pool.py\", line 260, in map\n",
      "    return self._map_async(func, iterable, mapstar, chunksize).get()\n",
      "  File \"/home/andi/anaconda3/lib/python3.5/multiprocessing/pool.py\", line 602, in get\n",
      "    self.wait(timeout)\n",
      "  File \"/home/andi/anaconda3/lib/python3.5/multiprocessing/pool.py\", line 599, in wait\n",
      "    self._event.wait(timeout)\n",
      "  File \"/home/andi/anaconda3/lib/python3.5/threading.py\", line 549, in wait\n",
      "    signaled = self._cond.wait(timeout)\n",
      "  File \"/home/andi/anaconda3/lib/python3.5/threading.py\", line 293, in wait\n",
      "    waiter.acquire()\n",
      "KeyboardInterrupt\n",
      "\n",
      "During handling of the above exception, another exception occurred:\n",
      "\n",
      "Traceback (most recent call last):\n",
      "  File \"/home/andi/anaconda3/lib/python3.5/site-packages/IPython/core/interactiveshell.py\", line 1827, in showtraceback\n",
      "    stb = value._render_traceback_()\n",
      "AttributeError: 'KeyboardInterrupt' object has no attribute '_render_traceback_'\n",
      "\n",
      "During handling of the above exception, another exception occurred:\n",
      "\n",
      "Traceback (most recent call last):\n",
      "  File \"/home/andi/anaconda3/lib/python3.5/site-packages/IPython/core/ultratb.py\", line 1118, in get_records\n",
      "    return _fixed_getinnerframes(etb, number_of_lines_of_context, tb_offset)\n",
      "  File \"/home/andi/anaconda3/lib/python3.5/site-packages/IPython/core/ultratb.py\", line 300, in wrapped\n",
      "    return f(*args, **kwargs)\n",
      "  File \"/home/andi/anaconda3/lib/python3.5/site-packages/IPython/core/ultratb.py\", line 345, in _fixed_getinnerframes\n",
      "    records = fix_frame_records_filenames(inspect.getinnerframes(etb, context))\n",
      "  File \"/home/andi/anaconda3/lib/python3.5/inspect.py\", line 1453, in getinnerframes\n",
      "    frameinfo = (tb.tb_frame,) + getframeinfo(tb, context)\n",
      "  File \"/home/andi/anaconda3/lib/python3.5/inspect.py\", line 1410, in getframeinfo\n",
      "    filename = getsourcefile(frame) or getfile(frame)\n",
      "  File \"/home/andi/anaconda3/lib/python3.5/inspect.py\", line 672, in getsourcefile\n",
      "    if getattr(getmodule(object, filename), '__loader__', None) is not None:\n",
      "  File \"/home/andi/anaconda3/lib/python3.5/inspect.py\", line 715, in getmodule\n",
      "    f = getabsfile(module)\n",
      "  File \"/home/andi/anaconda3/lib/python3.5/inspect.py\", line 684, in getabsfile\n",
      "    _filename = getsourcefile(object) or getfile(object)\n",
      "  File \"/home/andi/anaconda3/lib/python3.5/inspect.py\", line 669, in getsourcefile\n",
      "    if os.path.exists(filename):\n",
      "  File \"/home/andi/anaconda3/lib/python3.5/genericpath.py\", line 19, in exists\n",
      "    os.stat(path)\n",
      "KeyboardInterrupt\n"
     ]
    },
    {
     "name": "stderr",
     "output_type": "stream",
     "text": [
      "\n",
      "Unfortunately, your original traceback can not be constructed.\n",
      "\n"
     ]
    },
    {
     "ename": "KeyboardInterrupt",
     "evalue": "",
     "output_type": "error",
     "traceback": [
      "\u001b[1;31m---------------------------------------------------------------------------\u001b[0m"
     ]
    }
   ],
   "source": [
    "import porekit\n",
    "everything = porekit.gather_metadata(\"/home/andi/nanopore/\", workers=4)"
   ]
  },
  {
   "cell_type": "markdown",
   "metadata": {},
   "source": [
    "The result is a Pandas DataFrame object, which is too big to comfortably view in its entirety, but still comparatively \"small data\". Here is a subset of it:"
   ]
  },
  {
   "cell_type": "code",
   "execution_count": null,
   "metadata": {
    "collapsed": false
   },
   "outputs": [],
   "source": [
    "everything[['asic_id', 'channel_number', 'template_length', 'complement_length']].head()"
   ]
  },
  {
   "cell_type": "markdown",
   "metadata": {},
   "source": [
    "All of the columns available:"
   ]
  },
  {
   "cell_type": "code",
   "execution_count": null,
   "metadata": {
    "collapsed": false
   },
   "outputs": [],
   "source": [
    "everything.columns"
   ]
  },
  {
   "cell_type": "markdown",
   "metadata": {},
   "source": [
    "The philosopy of porekit is to gather the metadata once and then store it in a different format. This makes it easier and faster to analyse the metadata or use it in another context, for example with alignment data. In general, Fast5 Files don't change after MinKNOW and Metrichor, and possibly some third party programs are done with it."
   ]
  },
  {
   "cell_type": "markdown",
   "metadata": {},
   "source": [
    "The recommended file format to save this metadata is the \"Feather File Format\" (https://github.com/wesm/feather). It is a binary format for DataFrames, and has excellent support for R.\n",
    "\n",
    "Feather's documentation emphasizes the file format can still change, and thus should not be used for long term storage. It's still fine for most medium term purposes, and even in the longer term, pinning the package versions will make older data available just as easily."
   ]
  },
  {
   "cell_type": "code",
   "execution_count": null,
   "metadata": {
    "collapsed": false
   },
   "outputs": [],
   "source": [
    "everything.to_hdf(\"everything.h5\", \"meta\")"
   ]
  },
  {
   "cell_type": "markdown",
   "metadata": {},
   "source": [
    "## Grouping by Device, ASIC and Run Ids\n"
   ]
  },
  {
   "cell_type": "code",
   "execution_count": null,
   "metadata": {
    "collapsed": false
   },
   "outputs": [],
   "source": [
    "g = everything.groupby(['device_id', 'asic_id', 'run_id'])"
   ]
  },
  {
   "cell_type": "code",
   "execution_count": null,
   "metadata": {
    "collapsed": false
   },
   "outputs": [],
   "source": [
    "df = g.template_length.agg([lambda v: len(v), np.mean, np.max])\n",
    "df.columns = ['Count', 'Mean template length', 'Max template_length']\n",
    "df"
   ]
  },
  {
   "cell_type": "markdown",
   "metadata": {},
   "source": [
    "\n",
    "As you can see, I have downloaded several nanopore sets from ENA. These are mostly incomplete sets, since I was interested more in the variety of data rather than the completeness. You can easily use `wget` to download a tarball from ENA, then extract the partial download. The last file will be truncated, but the rest is usable."
   ]
  }
 ],
 "metadata": {
  "kernelspec": {
   "display_name": "Python 3",
   "language": "python",
   "name": "python3"
  },
  "language_info": {
   "codemirror_mode": {
    "name": "ipython",
    "version": 3
   },
   "file_extension": ".py",
   "mimetype": "text/x-python",
   "name": "python",
   "nbconvert_exporter": "python",
   "pygments_lexer": "ipython3",
   "version": "3.5.1"
  }
 },
 "nbformat": 4,
 "nbformat_minor": 0
}

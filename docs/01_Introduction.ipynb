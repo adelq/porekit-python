{
 "cells": [
  {
   "cell_type": "code",
   "execution_count": 1,
   "metadata": {
    "collapsed": true
   },
   "outputs": [],
   "source": [
    "import pandas as pd\n",
    "import numpy as np\n",
    "import seaborn as sb\n",
    "import matplotlib.pyplot as plt\n",
    "%matplotlib inline"
   ]
  },
  {
   "cell_type": "markdown",
   "metadata": {},
   "source": [
    "Introduction to Porekit-Python\n",
    "==============================\n",
    "\n",
    "Disclaimer\n",
    "------\n",
    "Porekit is the result of my personal interest in nanopore sequencing. I'm not affiliated with Oxford Nanopore Technologies, or any MAP participant. This means a lot of the factual information presented in this notebook may be wrong."
   ]
  },
  {
   "cell_type": "markdown",
   "metadata": {},
   "source": [
    "## What Oxford Nanopore Data looks like\n",
    "\n",
    "The MinION sequencer is attached to a laptop running what I would call the \"primary\" sequencing tool. This program connects directly to the MinION device and tells it what to do. Optionally, third party software can connect to an API inside the primary software to remote control the sequencing process. That is not covered here, though.\n",
    "\n",
    "In a nutshell, nanopore sequencing works by dragging a DNA molecule through a tiny pore in a membrane. As the DNA passes, the voltage difference between the two sides of the membrane change, depending on the electrochemical properties of the passing nucleotides. This means that at the core of the nanopore data there is a timeseries of voltage measurements, which is called the \"squiggle\".\n",
    "\n",
    "The process to convert the squiggle into a sequence of DNA letters is called base calling. The current MinION software uploads the squiggle to Metrichor servers, which perform the base calling, and send the result back to the user's computer.\n",
    "\n",
    "The result of a sequencing run is a collection of FAST5 files, each containing data on one molecule of DNA which passed through one of currently 512 channels in the flowcell. These files are stored on disk, usually in one directory per run. A convention seems to be to name each file with a unique and descriptive string:"
   ]
  },
  {
   "cell_type": "code",
   "execution_count": 2,
   "metadata": {
    "collapsed": false
   },
   "outputs": [
    {
     "name": "stdout",
     "output_type": "stream",
     "text": [
      "LomanLabz_PC_E.coli_MG1655_ONI_3058_1_ch315_file0_strand.log\r\n",
      "LomanLabz_PC_E.coli_MG1655_ONI_3058_1_ch315_file10_strand.fast5\r\n",
      "LomanLabz_PC_E.coli_MG1655_ONI_3058_1_ch315_file10_strand.log\r\n",
      "LomanLabz_PC_E.coli_MG1655_ONI_3058_1_ch315_file11_strand.fast5\r\n",
      "LomanLabz_PC_E.coli_MG1655_ONI_3058_1_ch315_file11_strand.log\r\n",
      "LomanLabz_PC_E.coli_MG1655_ONI_3058_1_ch315_file12_strand.fast5\r\n",
      "LomanLabz_PC_E.coli_MG1655_ONI_3058_1_ch315_file12_strand.log\r\n",
      "LomanLabz_PC_E.coli_MG1655_ONI_3058_1_ch315_file13_strand.fast5\r\n",
      "LomanLabz_PC_E.coli_MG1655_ONI_3058_1_ch315_file13_strand.log\r\n",
      "LomanLabz_PC_E.coli_MG1655_ONI_3058_1_ch315_file14_strand.fast5\r\n"
     ]
    }
   ],
   "source": [
    "!ls /media/internal_2/nanopore/flowcell_17/downloads | tail -n 10"
   ]
  },
  {
   "cell_type": "markdown",
   "metadata": {},
   "source": [
    "These files belong to data publishd by Quick et al. http://europepmc.org/abstract/MED/25386338;jsessionid=ijHIHUVXlcpxeTzVUihz.0\n",
    "\n"
   ]
  },
  {
   "cell_type": "markdown",
   "metadata": {},
   "source": [
    "## Gathering Metadata\n",
    "\n",
    "Porekit contains functions to gather data from nanopore files. The following snippet will extract meta data from all of my downloaded nanopore data, searching directories recursively."
   ]
  },
  {
   "cell_type": "code",
   "execution_count": 3,
   "metadata": {
    "collapsed": false
   },
   "outputs": [],
   "source": [
    "import porekit\n",
    "everything = porekit.gather_metadata(\"/media/internal_2/nanopore\")"
   ]
  },
  {
   "cell_type": "markdown",
   "metadata": {},
   "source": [
    "The result is a Pandas DataFrame object, which is too big to comfortably view in its entirety, but still comparatively \"small data\". Here is a subset of it:"
   ]
  },
  {
   "cell_type": "code",
   "execution_count": 4,
   "metadata": {
    "collapsed": false
   },
   "outputs": [
    {
     "data": {
      "text/html": [
       "<div>\n",
       "<table border=\"1\" class=\"dataframe\">\n",
       "  <thead>\n",
       "    <tr style=\"text-align: right;\">\n",
       "      <th></th>\n",
       "      <th>asic_id</th>\n",
       "      <th>channel_number</th>\n",
       "      <th>template_length</th>\n",
       "      <th>complement_length</th>\n",
       "    </tr>\n",
       "    <tr>\n",
       "      <th>filename</th>\n",
       "      <th></th>\n",
       "      <th></th>\n",
       "      <th></th>\n",
       "      <th></th>\n",
       "    </tr>\n",
       "  </thead>\n",
       "  <tbody>\n",
       "    <tr>\n",
       "      <th>Cathy_016602R_2625_1_ch392_file7_strand.fast5</th>\n",
       "      <td>42984</td>\n",
       "      <td>392</td>\n",
       "      <td>927</td>\n",
       "      <td>937</td>\n",
       "    </tr>\n",
       "    <tr>\n",
       "      <th>Cathy_016602R_2625_1_ch347_file30_strand.fast5</th>\n",
       "      <td>42984</td>\n",
       "      <td>347</td>\n",
       "      <td>997</td>\n",
       "      <td>1034</td>\n",
       "    </tr>\n",
       "    <tr>\n",
       "      <th>Cathy_016602R_2625_1_ch169_file6_strand.fast5</th>\n",
       "      <td>42984</td>\n",
       "      <td>169</td>\n",
       "      <td>998</td>\n",
       "      <td>982</td>\n",
       "    </tr>\n",
       "    <tr>\n",
       "      <th>Cathy_016602R_2625_1_ch251_file10_strand.fast5</th>\n",
       "      <td>42984</td>\n",
       "      <td>251</td>\n",
       "      <td>969</td>\n",
       "      <td>945</td>\n",
       "    </tr>\n",
       "    <tr>\n",
       "      <th>Cathy_016602R_2625_1_ch48_file19_strand.fast5</th>\n",
       "      <td>42984</td>\n",
       "      <td>48</td>\n",
       "      <td>1047</td>\n",
       "      <td>992</td>\n",
       "    </tr>\n",
       "  </tbody>\n",
       "</table>\n",
       "</div>"
      ],
      "text/plain": [
       "                                               asic_id  channel_number  \\\n",
       "filename                                                                 \n",
       "Cathy_016602R_2625_1_ch392_file7_strand.fast5    42984             392   \n",
       "Cathy_016602R_2625_1_ch347_file30_strand.fast5   42984             347   \n",
       "Cathy_016602R_2625_1_ch169_file6_strand.fast5    42984             169   \n",
       "Cathy_016602R_2625_1_ch251_file10_strand.fast5   42984             251   \n",
       "Cathy_016602R_2625_1_ch48_file19_strand.fast5    42984              48   \n",
       "\n",
       "                                                template_length  \\\n",
       "filename                                                          \n",
       "Cathy_016602R_2625_1_ch392_file7_strand.fast5               927   \n",
       "Cathy_016602R_2625_1_ch347_file30_strand.fast5              997   \n",
       "Cathy_016602R_2625_1_ch169_file6_strand.fast5               998   \n",
       "Cathy_016602R_2625_1_ch251_file10_strand.fast5              969   \n",
       "Cathy_016602R_2625_1_ch48_file19_strand.fast5              1047   \n",
       "\n",
       "                                                complement_length  \n",
       "filename                                                           \n",
       "Cathy_016602R_2625_1_ch392_file7_strand.fast5                 937  \n",
       "Cathy_016602R_2625_1_ch347_file30_strand.fast5               1034  \n",
       "Cathy_016602R_2625_1_ch169_file6_strand.fast5                 982  \n",
       "Cathy_016602R_2625_1_ch251_file10_strand.fast5                945  \n",
       "Cathy_016602R_2625_1_ch48_file19_strand.fast5                 992  "
      ]
     },
     "execution_count": 4,
     "metadata": {},
     "output_type": "execute_result"
    }
   ],
   "source": [
    "everything[['asic_id', 'channel_number', 'template_length', 'complement_length']].head()"
   ]
  },
  {
   "cell_type": "markdown",
   "metadata": {},
   "source": [
    "All of the columns available:"
   ]
  },
  {
   "cell_type": "code",
   "execution_count": 5,
   "metadata": {
    "collapsed": false
   },
   "outputs": [
    {
     "data": {
      "text/plain": [
       "Index(['absolute_filename', 'format', 'run_id', 'asic_id', 'version_name',\n",
       "       'device_id', 'flow_cell_id', 'asic_temp', 'heatsink_temp',\n",
       "       'channel_number', 'channel_range', 'channel_sampling_rate',\n",
       "       'channel_digitisation', 'channel_offset', 'has_basecalling',\n",
       "       'basecall_timestamp', 'basecall_version', 'basecall_name',\n",
       "       'has_template', 'template_length', 'has_complement',\n",
       "       'complement_length', 'has_2D', '2D_length'],\n",
       "      dtype='object')"
      ]
     },
     "execution_count": 5,
     "metadata": {},
     "output_type": "execute_result"
    }
   ],
   "source": [
    "everything.columns"
   ]
  },
  {
   "cell_type": "markdown",
   "metadata": {},
   "source": [
    "The file names are used as an index, because they are assumed to be unique and descriptive. Even when the absolute/physical location of the dataset changes, data or analytics based on these filenames are still useful.\n",
    "\n"
   ]
  },
  {
   "cell_type": "markdown",
   "metadata": {},
   "source": [
    "## Grouping by Device, ASIC and Run Ids\n"
   ]
  },
  {
   "cell_type": "code",
   "execution_count": 6,
   "metadata": {
    "collapsed": false
   },
   "outputs": [],
   "source": [
    "g = everything.groupby(['device_id', 'asic_id', 'run_id'])"
   ]
  },
  {
   "cell_type": "code",
   "execution_count": 7,
   "metadata": {
    "collapsed": false
   },
   "outputs": [
    {
     "data": {
      "text/html": [
       "<div>\n",
       "<table border=\"1\" class=\"dataframe\">\n",
       "  <thead>\n",
       "    <tr style=\"text-align: right;\">\n",
       "      <th></th>\n",
       "      <th></th>\n",
       "      <th></th>\n",
       "      <th>Count</th>\n",
       "      <th>Mean template length</th>\n",
       "      <th>Max template_length</th>\n",
       "    </tr>\n",
       "    <tr>\n",
       "      <th>device_id</th>\n",
       "      <th>asic_id</th>\n",
       "      <th>run_id</th>\n",
       "      <th></th>\n",
       "      <th></th>\n",
       "      <th></th>\n",
       "    </tr>\n",
       "  </thead>\n",
       "  <tbody>\n",
       "    <tr>\n",
       "      <th>MN02123</th>\n",
       "      <th>36544</th>\n",
       "      <th>d5c085dc93da5740a906ccfd86aad93c2f0a44c8</th>\n",
       "      <td>2907</td>\n",
       "      <td>5809.882222</td>\n",
       "      <td>48772</td>\n",
       "    </tr>\n",
       "    <tr>\n",
       "      <th>MN02178</th>\n",
       "      <th>42284</th>\n",
       "      <th>8c32b7dd2439ca736334403aa6cd5bb3b8db9768</th>\n",
       "      <td>326</td>\n",
       "      <td>1544.319018</td>\n",
       "      <td>2505</td>\n",
       "    </tr>\n",
       "    <tr>\n",
       "      <th>MN02260</th>\n",
       "      <th>42984</th>\n",
       "      <th>1e0b0295fee874d333a63f754ea2739c94963a9b</th>\n",
       "      <td>612</td>\n",
       "      <td>1017.441176</td>\n",
       "      <td>2387</td>\n",
       "    </tr>\n",
       "    <tr>\n",
       "      <th>MN02440</th>\n",
       "      <th>32019</th>\n",
       "      <th>4e9410f18de197eedbfb2fb8d658070636d873b8</th>\n",
       "      <td>1086</td>\n",
       "      <td>4390.493208</td>\n",
       "      <td>25475</td>\n",
       "    </tr>\n",
       "    <tr>\n",
       "      <th rowspan=\"3\" valign=\"top\">MN02747</th>\n",
       "      <th rowspan=\"2\" valign=\"top\">33477</th>\n",
       "      <th>cab43ae4f1307a1d137e3e6f333d4e2625d7df87</th>\n",
       "      <td>274</td>\n",
       "      <td>344.881988</td>\n",
       "      <td>6700</td>\n",
       "    </tr>\n",
       "    <tr>\n",
       "      <th>e86b6d15d61cdb6fce877c83a4d5a94853dee3e5</th>\n",
       "      <td>3197</td>\n",
       "      <td>1651.337186</td>\n",
       "      <td>24731</td>\n",
       "    </tr>\n",
       "    <tr>\n",
       "      <th>34496</th>\n",
       "      <th>2162cf6c92452e5299254d63b8d5d08bc238c65e</th>\n",
       "      <td>13633</td>\n",
       "      <td>2083.111542</td>\n",
       "      <td>30245</td>\n",
       "    </tr>\n",
       "    <tr>\n",
       "      <th rowspan=\"6\" valign=\"top\">MN15177</th>\n",
       "      <th>284879449</th>\n",
       "      <th>305664a831df5a02a380b156b14d87bb62aec7eb</th>\n",
       "      <td>535</td>\n",
       "      <td>NaN</td>\n",
       "      <td>NaN</td>\n",
       "    </tr>\n",
       "    <tr>\n",
       "      <th rowspan=\"4\" valign=\"top\">285402803</th>\n",
       "      <th>076a0ad0aa63f7e227b56b9fd578fee291900c73</th>\n",
       "      <td>8</td>\n",
       "      <td>NaN</td>\n",
       "      <td>NaN</td>\n",
       "    </tr>\n",
       "    <tr>\n",
       "      <th>64e00cc05df2a142620cdf18077d7565b8cf493e</th>\n",
       "      <td>276</td>\n",
       "      <td>NaN</td>\n",
       "      <td>NaN</td>\n",
       "    </tr>\n",
       "    <tr>\n",
       "      <th>cda984b6b52487fc369d7d5501b108248ed1a8ad</th>\n",
       "      <td>268</td>\n",
       "      <td>NaN</td>\n",
       "      <td>NaN</td>\n",
       "    </tr>\n",
       "    <tr>\n",
       "      <th>f09ac855e11ec77155062c195e930261730752b3</th>\n",
       "      <td>1</td>\n",
       "      <td>NaN</td>\n",
       "      <td>NaN</td>\n",
       "    </tr>\n",
       "    <tr>\n",
       "      <th>84472659</th>\n",
       "      <th>de9a268a32301b52656f5f45fd905162c0d67048</th>\n",
       "      <td>625</td>\n",
       "      <td>NaN</td>\n",
       "      <td>NaN</td>\n",
       "    </tr>\n",
       "  </tbody>\n",
       "</table>\n",
       "</div>"
      ],
      "text/plain": [
       "                                                              Count  \\\n",
       "device_id asic_id   run_id                                            \n",
       "MN02123   36544     d5c085dc93da5740a906ccfd86aad93c2f0a44c8   2907   \n",
       "MN02178   42284     8c32b7dd2439ca736334403aa6cd5bb3b8db9768    326   \n",
       "MN02260   42984     1e0b0295fee874d333a63f754ea2739c94963a9b    612   \n",
       "MN02440   32019     4e9410f18de197eedbfb2fb8d658070636d873b8   1086   \n",
       "MN02747   33477     cab43ae4f1307a1d137e3e6f333d4e2625d7df87    274   \n",
       "                    e86b6d15d61cdb6fce877c83a4d5a94853dee3e5   3197   \n",
       "          34496     2162cf6c92452e5299254d63b8d5d08bc238c65e  13633   \n",
       "MN15177   284879449 305664a831df5a02a380b156b14d87bb62aec7eb    535   \n",
       "          285402803 076a0ad0aa63f7e227b56b9fd578fee291900c73      8   \n",
       "                    64e00cc05df2a142620cdf18077d7565b8cf493e    276   \n",
       "                    cda984b6b52487fc369d7d5501b108248ed1a8ad    268   \n",
       "                    f09ac855e11ec77155062c195e930261730752b3      1   \n",
       "          84472659  de9a268a32301b52656f5f45fd905162c0d67048    625   \n",
       "\n",
       "                                                              Mean template length  \\\n",
       "device_id asic_id   run_id                                                           \n",
       "MN02123   36544     d5c085dc93da5740a906ccfd86aad93c2f0a44c8           5809.882222   \n",
       "MN02178   42284     8c32b7dd2439ca736334403aa6cd5bb3b8db9768           1544.319018   \n",
       "MN02260   42984     1e0b0295fee874d333a63f754ea2739c94963a9b           1017.441176   \n",
       "MN02440   32019     4e9410f18de197eedbfb2fb8d658070636d873b8           4390.493208   \n",
       "MN02747   33477     cab43ae4f1307a1d137e3e6f333d4e2625d7df87            344.881988   \n",
       "                    e86b6d15d61cdb6fce877c83a4d5a94853dee3e5           1651.337186   \n",
       "          34496     2162cf6c92452e5299254d63b8d5d08bc238c65e           2083.111542   \n",
       "MN15177   284879449 305664a831df5a02a380b156b14d87bb62aec7eb                   NaN   \n",
       "          285402803 076a0ad0aa63f7e227b56b9fd578fee291900c73                   NaN   \n",
       "                    64e00cc05df2a142620cdf18077d7565b8cf493e                   NaN   \n",
       "                    cda984b6b52487fc369d7d5501b108248ed1a8ad                   NaN   \n",
       "                    f09ac855e11ec77155062c195e930261730752b3                   NaN   \n",
       "          84472659  de9a268a32301b52656f5f45fd905162c0d67048                   NaN   \n",
       "\n",
       "                                                              Max template_length  \n",
       "device_id asic_id   run_id                                                         \n",
       "MN02123   36544     d5c085dc93da5740a906ccfd86aad93c2f0a44c8                48772  \n",
       "MN02178   42284     8c32b7dd2439ca736334403aa6cd5bb3b8db9768                 2505  \n",
       "MN02260   42984     1e0b0295fee874d333a63f754ea2739c94963a9b                 2387  \n",
       "MN02440   32019     4e9410f18de197eedbfb2fb8d658070636d873b8                25475  \n",
       "MN02747   33477     cab43ae4f1307a1d137e3e6f333d4e2625d7df87                 6700  \n",
       "                    e86b6d15d61cdb6fce877c83a4d5a94853dee3e5                24731  \n",
       "          34496     2162cf6c92452e5299254d63b8d5d08bc238c65e                30245  \n",
       "MN15177   284879449 305664a831df5a02a380b156b14d87bb62aec7eb                  NaN  \n",
       "          285402803 076a0ad0aa63f7e227b56b9fd578fee291900c73                  NaN  \n",
       "                    64e00cc05df2a142620cdf18077d7565b8cf493e                  NaN  \n",
       "                    cda984b6b52487fc369d7d5501b108248ed1a8ad                  NaN  \n",
       "                    f09ac855e11ec77155062c195e930261730752b3                  NaN  \n",
       "          84472659  de9a268a32301b52656f5f45fd905162c0d67048                  NaN  "
      ]
     },
     "execution_count": 7,
     "metadata": {},
     "output_type": "execute_result"
    }
   ],
   "source": [
    "df = g.template_length.agg([lambda v: len(v), np.mean, np.max])\n",
    "df.columns = ['Count', 'Mean template length', 'Max template_length']\n",
    "df"
   ]
  },
  {
   "cell_type": "markdown",
   "metadata": {},
   "source": [
    "\n",
    "As you can see, I have downloaded several nanopore sets from ENA. These are mostly incomplete sets, since I was interested more in the variety of data rather than the completeness. You can easily use `wget` to download a tarball from ENA, then extract the partial download. The last file will be truncated, but the rest is usable."
   ]
  },
  {
   "cell_type": "markdown",
   "metadata": {},
   "source": [
    "## Analyzing a single run\n",
    "\n",
    "\n",
    "The following refers to a dataset submitted by \"Virginia Commonwealth University\". I don't believe there is a publication associated with it yet. http://www.ebi.ac.uk/ena/data/view/ERP009740"
   ]
  },
  {
   "cell_type": "code",
   "execution_count": 8,
   "metadata": {
    "collapsed": true
   },
   "outputs": [],
   "source": [
    "vcu = porekit.gather_metadata(\"/media/internal_2/nanopore/vcu/Users/blbrown/Documents/DATA/Biology Stuff/\")"
   ]
  },
  {
   "cell_type": "markdown",
   "metadata": {},
   "source": [
    "This is actually several runs of data:"
   ]
  },
  {
   "cell_type": "code",
   "execution_count": 9,
   "metadata": {
    "collapsed": false
   },
   "outputs": [
    {
     "data": {
      "text/plain": [
       "run_id\n",
       "2162cf6c92452e5299254d63b8d5d08bc238c65e    13633\n",
       "cab43ae4f1307a1d137e3e6f333d4e2625d7df87      274\n",
       "e86b6d15d61cdb6fce877c83a4d5a94853dee3e5     3197\n",
       "Name: run_id, dtype: int64"
      ]
     },
     "execution_count": 9,
     "metadata": {},
     "output_type": "execute_result"
    }
   ],
   "source": [
    "vcu.groupby(['run_id']).run_id.count()"
   ]
  },
  {
   "cell_type": "markdown",
   "metadata": {},
   "source": [
    "Let's select just the first read:"
   ]
  },
  {
   "cell_type": "code",
   "execution_count": 10,
   "metadata": {
    "collapsed": false
   },
   "outputs": [
    {
     "data": {
      "text/plain": [
       "array(['2162cf6c92452e5299254d63b8d5d08bc238c65e'], dtype=object)"
      ]
     },
     "execution_count": 10,
     "metadata": {},
     "output_type": "execute_result"
    }
   ],
   "source": [
    "vcu = vcu [vcu.run_id == '2162cf6c92452e5299254d63b8d5d08bc238c65e']\n",
    "vcu.run_id.unique()"
   ]
  },
  {
   "cell_type": "markdown",
   "metadata": {},
   "source": [
    "The current library prep puts a hairpin protein on one end of a double stranded DNA molecule. First one strand passes the nanopore, then the hairpin, then the complement. Because biochemistry is messy, some molecules don't have a hairpin, some templates are much shorter than the complement, or the other way around.\n",
    "\n",
    "In the best case though, the read contains both a template and a complement, which can be aligned to improve the overall quality of the read. This is then called a \"2D read\"."
   ]
  },
  {
   "cell_type": "code",
   "execution_count": 11,
   "metadata": {
    "collapsed": false
   },
   "outputs": [
    {
     "data": {
      "text/plain": [
       "count     9028.000000\n",
       "mean      2083.111542\n",
       "std       3380.791174\n",
       "min          7.000000\n",
       "25%        123.000000\n",
       "50%        244.000000\n",
       "75%       3105.000000\n",
       "max      30245.000000\n",
       "Name: template_length, dtype: float64"
      ]
     },
     "execution_count": 11,
     "metadata": {},
     "output_type": "execute_result"
    }
   ],
   "source": [
    "vcu.template_length.describe()"
   ]
  },
  {
   "cell_type": "code",
   "execution_count": 12,
   "metadata": {
    "collapsed": false
   },
   "outputs": [
    {
     "data": {
      "text/plain": [
       "count     3496.000000\n",
       "mean      2735.812929\n",
       "std       3495.886600\n",
       "min         15.000000\n",
       "25%        134.000000\n",
       "50%        494.000000\n",
       "75%       5197.250000\n",
       "max      25290.000000\n",
       "Name: complement_length, dtype: float64"
      ]
     },
     "execution_count": 12,
     "metadata": {},
     "output_type": "execute_result"
    }
   ],
   "source": [
    "vcu.complement_length.describe()"
   ]
  },
  {
   "cell_type": "code",
   "execution_count": 13,
   "metadata": {
    "collapsed": false
   },
   "outputs": [
    {
     "data": {
      "text/plain": [
       "count     1619.000000\n",
       "mean      5504.660902\n",
       "std       3664.274453\n",
       "min        205.000000\n",
       "25%       2256.000000\n",
       "50%       5444.000000\n",
       "75%       7937.500000\n",
       "max      23342.000000\n",
       "Name: 2D_length, dtype: float64"
      ]
     },
     "execution_count": 13,
     "metadata": {},
     "output_type": "execute_result"
    }
   ],
   "source": [
    "vcu['2D_length'].describe()"
   ]
  },
  {
   "cell_type": "code",
   "execution_count": 14,
   "metadata": {
    "collapsed": false
   },
   "outputs": [
    {
     "data": {
      "image/png": "[encoded data removed]",
      "text/plain": [
       "<matplotlib.figure.Figure at 0x7f51a12c7e48>"
      ]
     },
     "metadata": {},
     "output_type": "display_data"
    }
   ],
   "source": [
    "f, ax = plt.subplots()\n",
    "f.set_figwidth(14); f.set_figheight(4)\n",
    "f.suptitle(\"Read length distribution\")\n",
    "sub = vcu[vcu.has_2D]\n",
    "max_length = np.percentile(sub['2D_length'], 99)\n",
    "sub = sub[sub['2D_length']< max_length]\n",
    "ax.hist(sub['2D_length'], bins=100);"
   ]
  },
  {
   "cell_type": "code",
   "execution_count": 15,
   "metadata": {
    "collapsed": false
   },
   "outputs": [
    {
     "data": {
      "image/png": "[encoded data removed]",
      "text/plain": [
       "<matplotlib.figure.Figure at 0x7f519ec573c8>"
      ]
     },
     "metadata": {},
     "output_type": "display_data"
    }
   ],
   "source": [
    "sub = vcu[vcu.has_template & vcu.has_complement]\n",
    "plt = sb.jointplot(sub['template_length'],sub['complement_length'])\n",
    "plt.fig.suptitle(\"Template vs Complement\");"
   ]
  }
 ],
 "metadata": {
  "kernelspec": {
   "display_name": "Python 3",
   "language": "python",
   "name": "python3"
  },
  "language_info": {
   "codemirror_mode": {
    "name": "ipython",
    "version": 3
   },
   "file_extension": ".py",
   "mimetype": "text/x-python",
   "name": "python",
   "nbconvert_exporter": "python",
   "pygments_lexer": "ipython3",
   "version": "3.5.1"
  }
 },
 "nbformat": 4,
 "nbformat_minor": 0
}

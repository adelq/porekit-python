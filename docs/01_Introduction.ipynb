{
 "cells": [
  {
   "cell_type": "code",
   "execution_count": 1,
   "metadata": {
    "collapsed": true
   },
   "outputs": [],
   "source": [
    "import pandas as pd\n",
    "import numpy as np\n",
    "import seaborn as sb\n",
    "import matplotlib.pyplot as plt\n",
    "%matplotlib inline"
   ]
  },
  {
   "cell_type": "markdown",
   "metadata": {},
   "source": [
    "Introduction to Porekit-Python\n",
    "==============================\n",
    "\n",
    "Disclaimer\n",
    "------\n",
    "Porekit is the result of my personal interest in nanopore sequencing. I'm not affiliated with Oxford Nanopore Technologies, or any MAP participant. This means a lot of the factual information presented in this notebook may be wrong."
   ]
  },
  {
   "cell_type": "markdown",
   "metadata": {},
   "source": [
    "## General philosophy and goal of Porekit-Python\n",
    "\n",
    "This library is meant to provide tools for interactively exploring nanopore data inside the Jupyter notebook, and for writing simple scripts or more complex software dealing with nanopore data. Therefore a lot of attention has been given to make interactive use easy and painless, and to keep the code in the background flexible and exposed to library users."
   ]
  },
  {
   "cell_type": "markdown",
   "metadata": {},
   "source": [
    "## What Oxford Nanopore Data looks like\n",
    "\n",
    "The MinION sequencer is attached to a laptop running MinKnow. This program connects directly to the MinION device and tells it what to do. Optionally, third party software can connect to an API inside the primary software to remote control the sequencing process. That is not covered here, though.\n",
    "\n",
    "In a nutshell, nanopore sequencing works by dragging a DNA molecule through a tiny pore in a membrane. As the DNA passes, the voltage difference between the two sides of the membrane change, depending on the electrochemical properties of the passing nucleotides. This means that, at the core of the nanopore data, there is a timeseries of voltage measurements, which is called the \"squiggle\".\n",
    "\n",
    "The process to convert the squiggle into a sequence of DNA letters is called base calling. The current MinKnow software uploads the squiggle to Metrichor servers, which perform the base calling, and send the result back to the user's computer.\n",
    "\n",
    "The result of a sequencing run is a collection of FAST5 files, each containing data on one molecule of DNA which passed through one of currently 512 channels in the flowcell. These files are stored on disk, usually in one directory per run. A convention seems to be to name each file with a unique and descriptive string:"
   ]
  },
  {
   "cell_type": "code",
   "execution_count": 4,
   "metadata": {
    "collapsed": false
   },
   "outputs": [
    {
     "name": "stdout",
     "output_type": "stream",
     "text": [
      "PLSP57501_20151028_Mk1_lambda_RU9_2752_1_ch9_file64_strand.fast5\r\n",
      "PLSP57501_20151028_Mk1_lambda_RU9_2752_1_ch9_file67_strand.fast5\r\n",
      "PLSP57501_20151028_Mk1_lambda_RU9_2752_1_ch9_file6_strand.fast5\r\n",
      "PLSP57501_20151028_Mk1_lambda_RU9_2752_1_ch9_file74_strand.fast5\r\n",
      "PLSP57501_20151028_Mk1_lambda_RU9_2752_1_ch9_file86_strand.fast5\r\n",
      "PLSP57501_20151028_Mk1_lambda_RU9_2752_1_ch9_file90_strand.fast5\r\n",
      "PLSP57501_20151028_Mk1_lambda_RU9_2752_1_ch9_file92_strand.fast5\r\n",
      "PLSP57501_20151028_Mk1_lambda_RU9_2752_1_ch9_file95_strand.fast5\r\n",
      "PLSP57501_20151028_Mk1_lambda_RU9_2752_1_ch9_file97_strand.fast5\r\n",
      "PLSP57501_20151028_Mk1_lambda_RU9_2752_1_ch9_file9_strand.fast5\r\n"
     ]
    }
   ],
   "source": [
    "!ls /home/andi/nanopore/GenomeRU2/downloads/pass/ | tail -n 10"
   ]
  },
  {
   "cell_type": "markdown",
   "metadata": {},
   "source": [
    "These files belong to data publishd by Quick et al. http://europepmc.org/abstract/MED/25386338;jsessionid=ijHIHUVXlcpxeTzVUihz.0"
   ]
  },
  {
   "cell_type": "markdown",
   "metadata": {},
   "source": [
    "## Gathering Metadata\n",
    "\n",
    "The following snippet will extract meta data from all of my downloaded nanopore data, searching directories recursively."
   ]
  },
  {
   "cell_type": "code",
   "execution_count": 6,
   "metadata": {
    "collapsed": false
   },
   "outputs": [],
   "source": [
    "import porekit\n",
    "everything = porekit.gather_metadata(\"/home/andi/nanopore/\")"
   ]
  },
  {
   "cell_type": "markdown",
   "metadata": {},
   "source": [
    "The result is a Pandas DataFrame object, which is too big to comfortably view in its entirety, but still comparatively \"small data\". Here is a subset of it:"
   ]
  },
  {
   "cell_type": "code",
   "execution_count": 7,
   "metadata": {
    "collapsed": false
   },
   "outputs": [
    {
     "data": {
      "text/html": [
       "<div>\n",
       "<table border=\"1\" class=\"dataframe\">\n",
       "  <thead>\n",
       "    <tr style=\"text-align: right;\">\n",
       "      <th></th>\n",
       "      <th>asic_id</th>\n",
       "      <th>channel_number</th>\n",
       "      <th>template_length</th>\n",
       "      <th>complement_length</th>\n",
       "    </tr>\n",
       "    <tr>\n",
       "      <th>filename</th>\n",
       "      <th></th>\n",
       "      <th></th>\n",
       "      <th></th>\n",
       "      <th></th>\n",
       "    </tr>\n",
       "  </thead>\n",
       "  <tbody>\n",
       "    <tr>\n",
       "      <th>PLSP57501_default_sample_id_2124_1_ch186_file3_strand.fast5</th>\n",
       "      <td>3442015863</td>\n",
       "      <td>186</td>\n",
       "      <td>NaN</td>\n",
       "      <td>NaN</td>\n",
       "    </tr>\n",
       "    <tr>\n",
       "      <th>PLSP57501_default_sample_id_2124_1_ch324_file15_strand.fast5</th>\n",
       "      <td>3442015863</td>\n",
       "      <td>324</td>\n",
       "      <td>NaN</td>\n",
       "      <td>NaN</td>\n",
       "    </tr>\n",
       "    <tr>\n",
       "      <th>PLSP57501_default_sample_id_2124_1_ch141_file3_strand.fast5</th>\n",
       "      <td>3442015863</td>\n",
       "      <td>141</td>\n",
       "      <td>NaN</td>\n",
       "      <td>NaN</td>\n",
       "    </tr>\n",
       "    <tr>\n",
       "      <th>PLSP57501_default_sample_id_2124_1_ch103_file2_strand.fast5</th>\n",
       "      <td>3442015863</td>\n",
       "      <td>103</td>\n",
       "      <td>NaN</td>\n",
       "      <td>NaN</td>\n",
       "    </tr>\n",
       "    <tr>\n",
       "      <th>PLSP57501_default_sample_id_2124_1_ch386_file13_strand.fast5</th>\n",
       "      <td>3442015863</td>\n",
       "      <td>386</td>\n",
       "      <td>NaN</td>\n",
       "      <td>NaN</td>\n",
       "    </tr>\n",
       "  </tbody>\n",
       "</table>\n",
       "</div>"
      ],
      "text/plain": [
       "                                                       asic_id  \\\n",
       "filename                                                         \n",
       "PLSP57501_default_sample_id_2124_1_ch186_file3_...  3442015863   \n",
       "PLSP57501_default_sample_id_2124_1_ch324_file15...  3442015863   \n",
       "PLSP57501_default_sample_id_2124_1_ch141_file3_...  3442015863   \n",
       "PLSP57501_default_sample_id_2124_1_ch103_file2_...  3442015863   \n",
       "PLSP57501_default_sample_id_2124_1_ch386_file13...  3442015863   \n",
       "\n",
       "                                                    channel_number  \\\n",
       "filename                                                             \n",
       "PLSP57501_default_sample_id_2124_1_ch186_file3_...             186   \n",
       "PLSP57501_default_sample_id_2124_1_ch324_file15...             324   \n",
       "PLSP57501_default_sample_id_2124_1_ch141_file3_...             141   \n",
       "PLSP57501_default_sample_id_2124_1_ch103_file2_...             103   \n",
       "PLSP57501_default_sample_id_2124_1_ch386_file13...             386   \n",
       "\n",
       "                                                    template_length  \\\n",
       "filename                                                              \n",
       "PLSP57501_default_sample_id_2124_1_ch186_file3_...              NaN   \n",
       "PLSP57501_default_sample_id_2124_1_ch324_file15...              NaN   \n",
       "PLSP57501_default_sample_id_2124_1_ch141_file3_...              NaN   \n",
       "PLSP57501_default_sample_id_2124_1_ch103_file2_...              NaN   \n",
       "PLSP57501_default_sample_id_2124_1_ch386_file13...              NaN   \n",
       "\n",
       "                                                    complement_length  \n",
       "filename                                                               \n",
       "PLSP57501_default_sample_id_2124_1_ch186_file3_...                NaN  \n",
       "PLSP57501_default_sample_id_2124_1_ch324_file15...                NaN  \n",
       "PLSP57501_default_sample_id_2124_1_ch141_file3_...                NaN  \n",
       "PLSP57501_default_sample_id_2124_1_ch103_file2_...                NaN  \n",
       "PLSP57501_default_sample_id_2124_1_ch386_file13...                NaN  "
      ]
     },
     "execution_count": 7,
     "metadata": {},
     "output_type": "execute_result"
    }
   ],
   "source": [
    "everything[['asic_id', 'channel_number', 'template_length', 'complement_length']].head()"
   ]
  },
  {
   "cell_type": "markdown",
   "metadata": {},
   "source": [
    "All of the columns available:"
   ]
  },
  {
   "cell_type": "code",
   "execution_count": 8,
   "metadata": {
    "collapsed": false
   },
   "outputs": [
    {
     "data": {
      "text/plain": [
       "Index(['absolute_filename', 'format', 'run_id', 'asic_id', 'version_name',\n",
       "       'device_id', 'flow_cell_id', 'asic_temp', 'heatsink_temp',\n",
       "       'channel_number', 'channel_range', 'channel_sampling_rate',\n",
       "       'channel_digitisation', 'channel_offset', 'has_basecalling',\n",
       "       'basecall_timestamp', 'basecall_version', 'basecall_name',\n",
       "       'has_template', 'template_length', 'has_complement',\n",
       "       'complement_length', 'has_2D', '2D_length', 'read_start_time',\n",
       "       'read_duration', 'read_end_time'],\n",
       "      dtype='object')"
      ]
     },
     "execution_count": 8,
     "metadata": {},
     "output_type": "execute_result"
    }
   ],
   "source": [
    "everything.columns"
   ]
  },
  {
   "cell_type": "markdown",
   "metadata": {},
   "source": [
    "The file names are used as an index, because they are assumed to be unique and descriptive. Even when the absolute/physical location of the dataset changes, data or analytics based on these filenames are still useful.\n",
    "\n",
    "The philosopy of porekit is to gather the metadata once and then store it in a different format. This makes it easier to analyse the metadata or use it in another context, for example with alignment data.\n",
    "\n",
    "The following will store the metadata in an HDF5 File:"
   ]
  },
  {
   "cell_type": "code",
   "execution_count": 10,
   "metadata": {
    "collapsed": false
   },
   "outputs": [
    {
     "name": "stderr",
     "output_type": "stream",
     "text": [
      "/home/andi/anaconda3/lib/python3.5/site-packages/pandas/core/generic.py:1096: PerformanceWarning: \n",
      "your performance may suffer as PyTables will pickle object types that it cannot\n",
      "map directly to c-types [inferred_type->mixed,key->block3_values] [items->['absolute_filename', 'format', 'run_id', 'asic_id', 'version_name', 'device_id', 'flow_cell_id', 'basecall_version', 'basecall_name', 'has_template', 'has_complement', 'has_2D']]\n",
      "\n",
      "  return pytables.to_hdf(path_or_buf, key, self, **kwargs)\n"
     ]
    }
   ],
   "source": [
    "everything.to_hdf(\"everything.h5\", \"meta\")"
   ]
  },
  {
   "cell_type": "markdown",
   "metadata": {},
   "source": [
    "## Grouping by Device, ASIC and Run Ids\n"
   ]
  },
  {
   "cell_type": "code",
   "execution_count": 13,
   "metadata": {
    "collapsed": false
   },
   "outputs": [],
   "source": [
    "g = everything.groupby(['device_id', 'asic_id', 'run_id'])"
   ]
  },
  {
   "cell_type": "code",
   "execution_count": 14,
   "metadata": {
    "collapsed": false
   },
   "outputs": [
    {
     "data": {
      "text/html": [
       "<div>\n",
       "<table border=\"1\" class=\"dataframe\">\n",
       "  <thead>\n",
       "    <tr style=\"text-align: right;\">\n",
       "      <th></th>\n",
       "      <th></th>\n",
       "      <th></th>\n",
       "      <th>Count</th>\n",
       "      <th>Mean template length</th>\n",
       "      <th>Max template_length</th>\n",
       "    </tr>\n",
       "    <tr>\n",
       "      <th>device_id</th>\n",
       "      <th>asic_id</th>\n",
       "      <th>run_id</th>\n",
       "      <th></th>\n",
       "      <th></th>\n",
       "      <th></th>\n",
       "    </tr>\n",
       "  </thead>\n",
       "  <tbody>\n",
       "    <tr>\n",
       "      <th>MN02178</th>\n",
       "      <th>32748</th>\n",
       "      <th>a96198c51610f2df5381b3da4378dba90cb4635b</th>\n",
       "      <td>8107.0</td>\n",
       "      <td>1036.574442</td>\n",
       "      <td>3028.0</td>\n",
       "    </tr>\n",
       "    <tr>\n",
       "      <th>MN02297</th>\n",
       "      <th>217752539</th>\n",
       "      <th>aeec32a5b6567efde499475723d41e2370444ad1</th>\n",
       "      <td>160992.0</td>\n",
       "      <td>4999.441396</td>\n",
       "      <td>116519.0</td>\n",
       "    </tr>\n",
       "    <tr>\n",
       "      <th rowspan=\"5\" valign=\"top\">MN15179</th>\n",
       "      <th rowspan=\"2\" valign=\"top\">152762368</th>\n",
       "      <th>8da1985a781386de16342edd83dc2fb8c7a0236a</th>\n",
       "      <td>57830.0</td>\n",
       "      <td>2174.129721</td>\n",
       "      <td>383927.0</td>\n",
       "    </tr>\n",
       "    <tr>\n",
       "      <th>d636d617db78c8db8c911f58b869d32395cff3e8</th>\n",
       "      <td>65648.0</td>\n",
       "      <td>NaN</td>\n",
       "      <td>NaN</td>\n",
       "    </tr>\n",
       "    <tr>\n",
       "      <th>3442015863</th>\n",
       "      <th>4918830b4e8663a6ecbaefd9abffa68fe92a0736</th>\n",
       "      <td>4137.0</td>\n",
       "      <td>NaN</td>\n",
       "      <td>NaN</td>\n",
       "    </tr>\n",
       "    <tr>\n",
       "      <th rowspan=\"2\" valign=\"top\">4244960115</th>\n",
       "      <th>05fb4df1edb44cce039fbc7f609ee0eb4614229e</th>\n",
       "      <td>20032.0</td>\n",
       "      <td>856.956434</td>\n",
       "      <td>60364.0</td>\n",
       "    </tr>\n",
       "    <tr>\n",
       "      <th>c91c9d31084bb5e2f0bf8f14064c8be2445eeb0e</th>\n",
       "      <td>26047.0</td>\n",
       "      <td>1330.689296</td>\n",
       "      <td>91786.0</td>\n",
       "    </tr>\n",
       "    <tr>\n",
       "      <th>MN16528</th>\n",
       "      <th>3571011476</th>\n",
       "      <th>69ed1ea007613207aa5a162012197a9ffe806e9f</th>\n",
       "      <td>68.0</td>\n",
       "      <td>NaN</td>\n",
       "      <td>NaN</td>\n",
       "    </tr>\n",
       "  </tbody>\n",
       "</table>\n",
       "</div>"
      ],
      "text/plain": [
       "                                                                  Count  \\\n",
       "device_id asic_id    run_id                                               \n",
       "MN02178   32748      a96198c51610f2df5381b3da4378dba90cb4635b    8107.0   \n",
       "MN02297   217752539  aeec32a5b6567efde499475723d41e2370444ad1  160992.0   \n",
       "MN15179   152762368  8da1985a781386de16342edd83dc2fb8c7a0236a   57830.0   \n",
       "                     d636d617db78c8db8c911f58b869d32395cff3e8   65648.0   \n",
       "          3442015863 4918830b4e8663a6ecbaefd9abffa68fe92a0736    4137.0   \n",
       "          4244960115 05fb4df1edb44cce039fbc7f609ee0eb4614229e   20032.0   \n",
       "                     c91c9d31084bb5e2f0bf8f14064c8be2445eeb0e   26047.0   \n",
       "MN16528   3571011476 69ed1ea007613207aa5a162012197a9ffe806e9f      68.0   \n",
       "\n",
       "                                                               Mean template length  \\\n",
       "device_id asic_id    run_id                                                           \n",
       "MN02178   32748      a96198c51610f2df5381b3da4378dba90cb4635b           1036.574442   \n",
       "MN02297   217752539  aeec32a5b6567efde499475723d41e2370444ad1           4999.441396   \n",
       "MN15179   152762368  8da1985a781386de16342edd83dc2fb8c7a0236a           2174.129721   \n",
       "                     d636d617db78c8db8c911f58b869d32395cff3e8                   NaN   \n",
       "          3442015863 4918830b4e8663a6ecbaefd9abffa68fe92a0736                   NaN   \n",
       "          4244960115 05fb4df1edb44cce039fbc7f609ee0eb4614229e            856.956434   \n",
       "                     c91c9d31084bb5e2f0bf8f14064c8be2445eeb0e           1330.689296   \n",
       "MN16528   3571011476 69ed1ea007613207aa5a162012197a9ffe806e9f                   NaN   \n",
       "\n",
       "                                                               Max template_length  \n",
       "device_id asic_id    run_id                                                         \n",
       "MN02178   32748      a96198c51610f2df5381b3da4378dba90cb4635b               3028.0  \n",
       "MN02297   217752539  aeec32a5b6567efde499475723d41e2370444ad1             116519.0  \n",
       "MN15179   152762368  8da1985a781386de16342edd83dc2fb8c7a0236a             383927.0  \n",
       "                     d636d617db78c8db8c911f58b869d32395cff3e8                  NaN  \n",
       "          3442015863 4918830b4e8663a6ecbaefd9abffa68fe92a0736                  NaN  \n",
       "          4244960115 05fb4df1edb44cce039fbc7f609ee0eb4614229e              60364.0  \n",
       "                     c91c9d31084bb5e2f0bf8f14064c8be2445eeb0e              91786.0  \n",
       "MN16528   3571011476 69ed1ea007613207aa5a162012197a9ffe806e9f                  NaN  "
      ]
     },
     "execution_count": 14,
     "metadata": {},
     "output_type": "execute_result"
    }
   ],
   "source": [
    "df = g.template_length.agg([lambda v: len(v), np.mean, np.max])\n",
    "df.columns = ['Count', 'Mean template length', 'Max template_length']\n",
    "df"
   ]
  },
  {
   "cell_type": "markdown",
   "metadata": {},
   "source": [
    "\n",
    "As you can see, I have downloaded several nanopore sets from ENA. These are mostly incomplete sets, since I was interested more in the variety of data rather than the completeness. You can easily use `wget` to download a tarball from ENA, then extract the partial download. The last file will be truncated, but the rest is usable."
   ]
  }
 ],
 "metadata": {
  "kernelspec": {
   "display_name": "Python 3",
   "language": "python",
   "name": "python3"
  },
  "language_info": {
   "codemirror_mode": {
    "name": "ipython",
    "version": 3
   },
   "file_extension": ".py",
   "mimetype": "text/x-python",
   "name": "python",
   "nbconvert_exporter": "python",
   "pygments_lexer": "ipython3",
   "version": "3.5.1"
  }
 },
 "nbformat": 4,
 "nbformat_minor": 0
}
